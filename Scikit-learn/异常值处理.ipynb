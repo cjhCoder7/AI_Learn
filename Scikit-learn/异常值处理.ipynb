{
 "cells": [
  {
   "cell_type": "markdown",
   "metadata": {},
   "source": [
    "## 判断异常值"
   ]
  },
  {
   "cell_type": "markdown",
   "metadata": {},
   "source": [
    "使用标准差和均值判断"
   ]
  },
  {
   "cell_type": "code",
   "execution_count": 1,
   "metadata": {},
   "outputs": [
    {
     "name": "stdout",
     "output_type": "stream",
     "text": [
      "正常值的范围： 5.765555066526954 0.23100231052222542\n",
      "是否存在超出正常范围的值： True\n",
      "是否存在小于正常范围的值： False\n"
     ]
    }
   ],
   "source": [
    "import pandas as pd\n",
    "import numpy as np\n",
    "\n",
    "tips = pd.read_csv(\"data/tips.csv\")\n",
    "# 使用均值和标准差进行判断\n",
    "tipmean = tips[\"tip\"].mean()\n",
    "tipstd = tips[\"tip\"].std()\n",
    "topnum1 = tipmean + 2 * tipstd\n",
    "bottomnum1 = tipmean - 2 * tipstd\n",
    "print(\"正常值的范围：\", topnum1, bottomnum1)\n",
    "# any()函数\n",
    "print(\"是否存在超出正常范围的值：\", any(tips[\"tip\"] > topnum1))\n",
    "print(\"是否存在小于正常范围的值：\", any(tips[\"tip\"] < bottomnum1))"
   ]
  },
  {
   "cell_type": "markdown",
   "metadata": {},
   "source": [
    "使用上四中位数和下四中位数进行判断"
   ]
  },
  {
   "cell_type": "code",
   "execution_count": 2,
   "metadata": {},
   "outputs": [
    {
     "name": "stdout",
     "output_type": "stream",
     "text": [
      "正常值的范围： 5.90625 1.21875\n",
      "是否存在超出正常范围的值： True\n",
      "是否存在小于正常范围的值： True\n"
     ]
    }
   ],
   "source": [
    "mean1 = tips[\"tip\"].quantile(q=0.25)  # 下四分位差\n",
    "mean2 = tips[\"tip\"].quantile(q=0.75)  # 上四分位差\n",
    "mean3 = mean2 - mean1  # 中位差\n",
    "topnum2 = mean2 + 1.5 * mean3\n",
    "bottomnum2 = mean2 - 1.5 * mean3\n",
    "print(\"正常值的范围：\", topnum2, bottomnum2)\n",
    "print(\"是否存在超出正常范围的值：\", any(tips[\"tip\"] > topnum2))\n",
    "print(\"是否存在小于正常范围的值：\", any(tips[\"tip\"] < bottomnum2))"
   ]
  },
  {
   "cell_type": "markdown",
   "metadata": {},
   "source": [
    "可视化异常值——箱形图"
   ]
  },
  {
   "cell_type": "code",
   "execution_count": 3,
   "metadata": {},
   "outputs": [
    {
     "data": {
      "image/png": "[encoded data removed]",
      "text/plain": [
       "<Figure size 640x480 with 1 Axes>"
      ]
     },
     "metadata": {},
     "output_type": "display_data"
    }
   ],
   "source": [
    "import matplotlib.pyplot as plt\n",
    "\n",
    "plt.boxplot(x=tips[\"tip\"])\n",
    "plt.show()"
   ]
  },
  {
   "cell_type": "markdown",
   "metadata": {},
   "source": [
    "异常数据的处理方式通常是：取数据中的最大值和最小值进行异常值替换"
   ]
  },
  {
   "cell_type": "code",
   "execution_count": 4,
   "metadata": {},
   "outputs": [
    {
     "data": {
      "image/png": "[encoded data removed]",
      "text/plain": [
       "<Figure size 640x480 with 1 Axes>"
      ]
     },
     "metadata": {},
     "output_type": "display_data"
    }
   ],
   "source": [
    "replace_value1 = tips[\"tip\"][tips[\"tip\"] < topnum2].max()\n",
    "tips.loc[tips[\"tip\"] > topnum2, \"tip\"] = replace_value1\n",
    "replace_value2 = tips[\"tip\"][tips[\"tip\"] > bottomnum2].min()\n",
    "tips.loc[tips[\"tip\"] < bottomnum2, \"tip\"] = replace_value2\n",
    "# 可视化异常值\n",
    "plt.boxplot(x=tips[\"tip\"])\n",
    "plt.show()"
   ]
  },
  {
   "cell_type": "markdown",
   "metadata": {},
   "source": [
    "## 小波变化"
   ]
  },
  {
   "cell_type": "markdown",
   "metadata": {},
   "source": [
    "小波阈值去噪，使用到的库为 `PyWavelets` / `pywt`"
   ]
  },
  {
   "cell_type": "code",
   "execution_count": 5,
   "metadata": {},
   "outputs": [
    {
     "name": "stdout",
     "output_type": "stream",
     "text": [
      "maximum level is 4\n"
     ]
    },
    {
     "data": {
      "image/png": "[encoded data removed]",
      "text/plain": [
       "<Figure size 640x480 with 1 Axes>"
      ]
     },
     "metadata": {},
     "output_type": "display_data"
    }
   ],
   "source": [
    "import pywt\n",
    "\n",
    "ecg = tips[\"tip\"].values\n",
    "\n",
    "\n",
    "def pywt_wave(ecg):\n",
    "    index = []\n",
    "    data = []\n",
    "    for i in range(len(ecg) - 1):\n",
    "        X = float(i)\n",
    "        Y = float(ecg[i])\n",
    "        index.append(X)\n",
    "        data.append(Y)\n",
    "    w = pywt.Wavelet(\"db8\")  # 选用Daubechies8小波\n",
    "    maxlev = pywt.dwt_max_level(len(data), w.dec_len)\n",
    "    print(\"maximum level is \" + str(maxlev))\n",
    "    threshold = 0.1  # 过滤（阈值）\n",
    "    coeffs = pywt.wavedec(data, \"db8\", level=maxlev)  # 将信号进行小波分解\n",
    "    for i in range(1, len(coeffs)):\n",
    "        coeffs[i] = pywt.threshold(coeffs[i], threshold * max(coeffs[i]))  # 将噪声滤波\n",
    "    datarec = pywt.waverec(coeffs, \"db8\")  # 将信号进行小波重构\n",
    "    return datarec\n",
    "\n",
    "\n",
    "datarec = pywt_wave(ecg)\n",
    "# 可视化异常值\n",
    "plt.boxplot(x=datarec)\n",
    "plt.show()"
   ]
  },
  {
   "cell_type": "markdown",
   "metadata": {},
   "source": [
    "## PyOD库"
   ]
  },
  {
   "cell_type": "markdown",
   "metadata": {},
   "source": [
    "`PyOD`一般是专门用于检测多变量数据中的异常值"
   ]
  },
  {
   "cell_type": "code",
   "execution_count": 6,
   "metadata": {},
   "outputs": [
    {
     "name": "stdout",
     "output_type": "stream",
     "text": [
      "      tip  labels  scores\n",
      "0    1.25       0    0.00\n",
      "1    1.66       0    0.05\n",
      "2    3.50       0    0.00\n",
      "3    3.31       0    0.08\n",
      "4    3.61       1    0.10\n",
      "..    ...     ...     ...\n",
      "239  5.85       0    0.00\n",
      "240  2.00       0    0.00\n",
      "241  2.00       0    0.00\n",
      "242  1.75       0    0.07\n",
      "243  3.00       0    0.00\n",
      "\n",
      "[244 rows x 3 columns]\n"
     ]
    },
    {
     "name": "stderr",
     "output_type": "stream",
     "text": [
      "C:\\Users\\27360\\AppData\\Local\\Temp\\ipykernel_4876\\2575896800.py:10: SettingWithCopyWarning: \n",
      "A value is trying to be set on a copy of a slice from a DataFrame.\n",
      "Try using .loc[row_indexer,col_indexer] = value instead\n",
      "\n",
      "See the caveats in the documentation: https://pandas.pydata.org/pandas-docs/stable/user_guide/indexing.html#returning-a-view-versus-a-copy\n",
      "  data['labels']  = y_train_pred\n",
      "C:\\Users\\27360\\AppData\\Local\\Temp\\ipykernel_4876\\2575896800.py:11: SettingWithCopyWarning: \n",
      "A value is trying to be set on a copy of a slice from a DataFrame.\n",
      "Try using .loc[row_indexer,col_indexer] = value instead\n",
      "\n",
      "See the caveats in the documentation: https://pandas.pydata.org/pandas-docs/stable/user_guide/indexing.html#returning-a-view-versus-a-copy\n",
      "  data['scores']  = y_train_scores\n"
     ]
    }
   ],
   "source": [
    "from pyod.models.knn import KNN  # imprt kNN分类器\n",
    "\n",
    "data = tips[[\"tip\"]]\n",
    "# 训练一个kNN检测器\n",
    "clf_name = \"kNN\"\n",
    "clf = KNN()  # 初始化检测器clf\n",
    "clf.fit(data)  # 使用X_train训练检测器clf\n",
    "# 返回训练数据X_train上的异常标签和异常分值\n",
    "y_train_pred = clf.labels_  # 返回训练数据上的分类标签 (0: 正常值, 1: 异常值)\n",
    "y_train_scores = clf.decision_scores_  # 返回训练数据上的异常值 (分值越大越异常)\n",
    "data[\"labels\"] = y_train_pred\n",
    "data[\"scores\"] = y_train_scores\n",
    "print(data)"
   ]
  }
 ],
 "metadata": {
  "kernelspec": {
   "display_name": ".venv",
   "language": "python",
   "name": "python3"
  },
  "language_info": {
   "codemirror_mode": {
    "name": "ipython",
    "version": 3
   },
   "file_extension": ".py",
   "mimetype": "text/x-python",
   "name": "python",
   "nbconvert_exporter": "python",
   "pygments_lexer": "ipython3",
   "version": "3.12.4"
  }
 },
 "nbformat": 4,
 "nbformat_minor": 2
}
