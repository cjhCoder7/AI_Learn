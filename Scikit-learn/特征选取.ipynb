{
 "cells": [
  {
   "cell_type": "markdown",
   "metadata": {},
   "source": [
    "## 过滤式特征选取"
   ]
  },
  {
   "cell_type": "markdown",
   "metadata": {},
   "source": [
    "主要原理是通过数据的发散性或者相关性对各个特征进行评分，设定阈值或者待选取的阈值个数来选取特征。"
   ]
  },
  {
   "cell_type": "markdown",
   "metadata": {},
   "source": [
    "### 方差过滤"
   ]
  },
  {
   "cell_type": "code",
   "execution_count": 1,
   "metadata": {},
   "outputs": [
    {
     "name": "stdout",
     "output_type": "stream",
     "text": [
      "Variances is [ 0.1875 13.6875 13.6875 13.6875]\n",
      "After transform is [[ 1  2  3]\n",
      " [ 4  5  6]\n",
      " [ 7  8  9]\n",
      " [11 12 13]]\n",
      "The surport is [1 2 3]\n",
      "After reverse transform is [[ 0  1  2  3]\n",
      " [ 0  4  5  6]\n",
      " [ 0  7  8  9]\n",
      " [ 0 11 12 13]]\n"
     ]
    }
   ],
   "source": [
    "from sklearn.feature_selection import VarianceThreshold, SelectKBest, f_classif\n",
    "\n",
    "\n",
    "def test_VarianceThreshold():\n",
    "    X = [[100, 1, 2, 3], \n",
    "         [100, 4, 5, 6], \n",
    "         [100, 7, 8, 9], \n",
    "         [101, 11, 12, 13]]\n",
    "    selector = VarianceThreshold(1)   # 阈值设置为1\n",
    "    selector.fit(X)\n",
    "    print(\"Variances is %s\" % selector.variances_)\n",
    "    print(\"After transform is %s\" % selector.transform(X))\n",
    "    print(\"The surport is %s\" % selector.get_support(True))\n",
    "    print(\n",
    "        \"After reverse transform is %s\"\n",
    "        % selector.inverse_transform(selector.transform(X))     # 将被选取出来的特征还原成原始数据，缺失值使用0填充\n",
    "    )\n",
    "\n",
    "\n",
    "test_VarianceThreshold()"
   ]
  },
  {
   "cell_type": "markdown",
   "metadata": {},
   "source": [
    "### 单变量过滤"
   ]
  },
  {
   "cell_type": "markdown",
   "metadata": {},
   "source": [
    "这是一个有监督学习，需要标签向量y\n",
    "\n",
    "`SelectKBest` 使用 `f_classif`（方差分析 ANOVA）作为得分函数。ANOVA 是用于检验不同组别（如类别 0 和 1）之间各个特征的均值是否显著不同的统计方法"
   ]
  },
  {
   "cell_type": "markdown",
   "metadata": {},
   "source": [
    "补充：\n",
    "$$\n",
    "F = \\frac{\\text{组间方差}}{\\text{组内方差}}\n",
    "$$\n",
    "F值越大，说明类别之间的方差大于类别内部的方差，表明该特征对区分目标变量（如 `y` 中的类别 `0` 和 `1`）是有帮助的。\n",
    "\n",
    "反之，F值较小，说明不同类别之间在该特征上没有显著差异，该特征对分类帮助不大。"
   ]
  },
  {
   "cell_type": "markdown",
   "metadata": {},
   "source": [
    "**p** 值是基于 F 检验结果得出的显著性水平，用来评估**是否应该拒绝原假设**（**该特征与目标变量无关**）。它表示在原假设成立的情况下，**观察到等于或更极端的检验统计量（F值）的概率**"
   ]
  },
  {
   "cell_type": "code",
   "execution_count": 2,
   "metadata": {},
   "outputs": [
    {
     "name": "stdout",
     "output_type": "stream",
     "text": [
      "before transform: [[1, 2, 3, 4, 5], [5, 4, 3, 2, 1], [3, 3, 3, 3, 3], [1, 1, 1, 1, 1]]\n",
      "scores_: [0.2 0.  1.  8.  9. ]\n",
      "pvalues_: [0.69848866 1.         0.42264973 0.10557281 0.09546597]\n",
      "selected index: [2 3 4]\n",
      "after transform: [[3 4 5]\n",
      " [3 2 1]\n",
      " [3 3 3]\n",
      " [1 1 1]]\n"
     ]
    }
   ],
   "source": [
    "def test_SelectKBest():\n",
    "    X = [[1, 2, 3, 4, 5],\n",
    "         [5, 4, 3, 2, 1],\n",
    "         [3, 3, 3, 3, 3],\n",
    "         [1, 1, 1, 1, 1]]\n",
    "    y = [0, 1, 0, 1]\n",
    "    print(\"before transform:\", X)\n",
    "    selector = SelectKBest(score_func=f_classif, k=3) # 保留3个最好的特征，使用f_classif方差分析作为得分函数\n",
    "    selector.fit(X, y)      \n",
    "    print(\"scores_:\", selector.scores_)     # 每个特征的 F值\n",
    "    print(\"pvalues_:\", selector.pvalues_)   # 每个特征的 p值\n",
    "    print(\"selected index:\", selector.get_support(True))\n",
    "    print(\"after transform:\", selector.transform(X))\n",
    "\n",
    "\n",
    "test_SelectKBest()"
   ]
  },
  {
   "cell_type": "markdown",
   "metadata": {},
   "source": [
    "总结：\n",
    "- **F值高，p值低**：说明这个特征对目标变量的区分能力强，类别间差异显著。\n",
    "- **F值低，p值高**：表示这个特征对目标变量的区分能力弱，不显著。"
   ]
  },
  {
   "cell_type": "markdown",
   "metadata": {},
   "source": [
    "## 包裹式特征选取"
   ]
  },
  {
   "cell_type": "markdown",
   "metadata": {},
   "source": [
    "### RFE递归特征删除"
   ]
  },
  {
   "cell_type": "markdown",
   "metadata": {},
   "source": [
    "本质上是将特征选择看作一个特征子集搜索问题，筛选各种特征子集，再用模型评估效果"
   ]
  },
  {
   "cell_type": "code",
   "execution_count": 3,
   "metadata": {},
   "outputs": [
    {
     "name": "stdout",
     "output_type": "stream",
     "text": [
      "N_features 2\n",
      "Support is [False  True False  True]\n",
      "Ranking [3 1 2 1]\n",
      "Original DataSet: test score=0.9473684210526315\n",
      "Selected DataSet: test score=0.9473684210526315\n"
     ]
    }
   ],
   "source": [
    "from sklearn.feature_selection import RFE\n",
    "from sklearn.svm import LinearSVC\n",
    "from sklearn.datasets import load_iris\n",
    "from sklearn.model_selection import train_test_split\n",
    "\n",
    "\n",
    "def test_RFE():\n",
    "    iris = load_iris()\n",
    "    X = iris.data\n",
    "    y = iris.target\n",
    "    estimator = LinearSVC()\n",
    "    selector = RFE(estimator=estimator, n_features_to_select=2)\n",
    "    selector.fit(X, y)\n",
    "    print(\"N_features %s\" % selector.n_features_)\n",
    "    print(\"Support is %s\" % selector.support_)\n",
    "    print(\"Ranking %s\" % selector.ranking_)\n",
    "\n",
    "\n",
    "def test_compare_with_no_feature_selection():\n",
    "    ### 加载数据\n",
    "    iris = load_iris()\n",
    "    X, y = iris.data, iris.target\n",
    "    ### 特征提取\n",
    "    estimator = LinearSVC()\n",
    "    selector = RFE(estimator=estimator, n_features_to_select=2)\n",
    "    X_t = selector.fit_transform(X, y)\n",
    "    #### 切分测试集与验证集\n",
    "    X_train, X_test, y_train, y_test = train_test_split(\n",
    "        X, y, test_size=0.25, random_state=0, stratify=y\n",
    "    )\n",
    "    X_train_t, X_test_t, y_train_t, y_test_t = train_test_split(\n",
    "        X_t, y, test_size=0.25, random_state=0, stratify=y\n",
    "    )\n",
    "    ### 测试与验证\n",
    "    clf = LinearSVC()\n",
    "    clf_t = LinearSVC()\n",
    "    clf.fit(X_train, y_train)\n",
    "    clf_t.fit(X_train_t, y_train_t)\n",
    "    print(\"Original DataSet: test score=%s\" % (clf.score(X_test, y_test)))\n",
    "    print(\"Selected DataSet: test score=%s\" % (clf_t.score(X_test_t, y_test_t)))\n",
    "\n",
    "\n",
    "test_RFE()  # 调用 test_RFE\n",
    "test_compare_with_no_feature_selection()  # 调用 test_compare_with_no_feature_selection"
   ]
  },
  {
   "cell_type": "markdown",
   "metadata": {},
   "source": [
    "### 嵌入式特征选取"
   ]
  },
  {
   "cell_type": "markdown",
   "metadata": {},
   "source": [
    "还不是很懂("
   ]
  },
  {
   "cell_type": "code",
   "execution_count": 4,
   "metadata": {},
   "outputs": [
    {
     "name": "stderr",
     "output_type": "stream",
     "text": [
      "d:\\Code\\Github\\AI_Learn\\.venv\\Lib\\site-packages\\sklearn\\svm\\_base.py:1235: ConvergenceWarning: Liblinear failed to converge, increase the number of iterations.\n",
      "  warnings.warn(\n"
     ]
    },
    {
     "name": "stdout",
     "output_type": "stream",
     "text": [
      "Threshold: 0.6789522646876391\n",
      "Selected features: [ 2  3  4  5  6  9 12 13 14 18 19 20 21 22 25 26 27 30 33 36 38 41 42 43\n",
      " 44 45 51 53 54 55 58 61]\n",
      "Transformed shape: (1797, 32)\n"
     ]
    },
    {
     "data": {
      "image/png": "[encoded data removed]",
      "text/plain": [
       "<Figure size 640x480 with 1 Axes>"
      ]
     },
     "metadata": {},
     "output_type": "display_data"
    },
    {
     "name": "stderr",
     "output_type": "stream",
     "text": [
      "d:\\Code\\Github\\AI_Learn\\.venv\\Lib\\site-packages\\sklearn\\svm\\_base.py:1235: ConvergenceWarning: Liblinear failed to converge, increase the number of iterations.\n",
      "  warnings.warn(\n",
      "d:\\Code\\Github\\AI_Learn\\.venv\\Lib\\site-packages\\sklearn\\svm\\_base.py:1235: ConvergenceWarning: Liblinear failed to converge, increase the number of iterations.\n",
      "  warnings.warn(\n",
      "d:\\Code\\Github\\AI_Learn\\.venv\\Lib\\site-packages\\sklearn\\svm\\_base.py:1235: ConvergenceWarning: Liblinear failed to converge, increase the number of iterations.\n",
      "  warnings.warn(\n",
      "d:\\Code\\Github\\AI_Learn\\.venv\\Lib\\site-packages\\sklearn\\svm\\_base.py:1235: ConvergenceWarning: Liblinear failed to converge, increase the number of iterations.\n",
      "  warnings.warn(\n",
      "d:\\Code\\Github\\AI_Learn\\.venv\\Lib\\site-packages\\sklearn\\svm\\_base.py:1235: ConvergenceWarning: Liblinear failed to converge, increase the number of iterations.\n",
      "  warnings.warn(\n",
      "d:\\Code\\Github\\AI_Learn\\.venv\\Lib\\site-packages\\sklearn\\svm\\_base.py:1235: ConvergenceWarning: Liblinear failed to converge, increase the number of iterations.\n",
      "  warnings.warn(\n",
      "d:\\Code\\Github\\AI_Learn\\.venv\\Lib\\site-packages\\sklearn\\svm\\_base.py:1235: ConvergenceWarning: Liblinear failed to converge, increase the number of iterations.\n",
      "  warnings.warn(\n",
      "d:\\Code\\Github\\AI_Learn\\.venv\\Lib\\site-packages\\sklearn\\svm\\_base.py:1235: ConvergenceWarning: Liblinear failed to converge, increase the number of iterations.\n",
      "  warnings.warn(\n",
      "d:\\Code\\Github\\AI_Learn\\.venv\\Lib\\site-packages\\sklearn\\svm\\_base.py:1235: ConvergenceWarning: Liblinear failed to converge, increase the number of iterations.\n",
      "  warnings.warn(\n",
      "d:\\Code\\Github\\AI_Learn\\.venv\\Lib\\site-packages\\sklearn\\svm\\_base.py:1235: ConvergenceWarning: Liblinear failed to converge, increase the number of iterations.\n",
      "  warnings.warn(\n",
      "d:\\Code\\Github\\AI_Learn\\.venv\\Lib\\site-packages\\sklearn\\svm\\_base.py:1235: ConvergenceWarning: Liblinear failed to converge, increase the number of iterations.\n",
      "  warnings.warn(\n",
      "d:\\Code\\Github\\AI_Learn\\.venv\\Lib\\site-packages\\sklearn\\svm\\_base.py:1235: ConvergenceWarning: Liblinear failed to converge, increase the number of iterations.\n",
      "  warnings.warn(\n",
      "d:\\Code\\Github\\AI_Learn\\.venv\\Lib\\site-packages\\sklearn\\svm\\_base.py:1235: ConvergenceWarning: Liblinear failed to converge, increase the number of iterations.\n",
      "  warnings.warn(\n",
      "d:\\Code\\Github\\AI_Learn\\.venv\\Lib\\site-packages\\sklearn\\svm\\_base.py:1235: ConvergenceWarning: Liblinear failed to converge, increase the number of iterations.\n",
      "  warnings.warn(\n",
      "d:\\Code\\Github\\AI_Learn\\.venv\\Lib\\site-packages\\sklearn\\svm\\_base.py:1235: ConvergenceWarning: Liblinear failed to converge, increase the number of iterations.\n",
      "  warnings.warn(\n",
      "d:\\Code\\Github\\AI_Learn\\.venv\\Lib\\site-packages\\sklearn\\svm\\_base.py:1235: ConvergenceWarning: Liblinear failed to converge, increase the number of iterations.\n",
      "  warnings.warn(\n",
      "d:\\Code\\Github\\AI_Learn\\.venv\\Lib\\site-packages\\sklearn\\svm\\_base.py:1235: ConvergenceWarning: Liblinear failed to converge, increase the number of iterations.\n",
      "  warnings.warn(\n",
      "d:\\Code\\Github\\AI_Learn\\.venv\\Lib\\site-packages\\sklearn\\svm\\_base.py:1235: ConvergenceWarning: Liblinear failed to converge, increase the number of iterations.\n",
      "  warnings.warn(\n",
      "d:\\Code\\Github\\AI_Learn\\.venv\\Lib\\site-packages\\sklearn\\svm\\_base.py:1235: ConvergenceWarning: Liblinear failed to converge, increase the number of iterations.\n",
      "  warnings.warn(\n",
      "d:\\Code\\Github\\AI_Learn\\.venv\\Lib\\site-packages\\sklearn\\svm\\_base.py:1235: ConvergenceWarning: Liblinear failed to converge, increase the number of iterations.\n",
      "  warnings.warn(\n",
      "d:\\Code\\Github\\AI_Learn\\.venv\\Lib\\site-packages\\sklearn\\svm\\_base.py:1235: ConvergenceWarning: Liblinear failed to converge, increase the number of iterations.\n",
      "  warnings.warn(\n",
      "d:\\Code\\Github\\AI_Learn\\.venv\\Lib\\site-packages\\sklearn\\svm\\_base.py:1235: ConvergenceWarning: Liblinear failed to converge, increase the number of iterations.\n",
      "  warnings.warn(\n",
      "d:\\Code\\Github\\AI_Learn\\.venv\\Lib\\site-packages\\sklearn\\svm\\_base.py:1235: ConvergenceWarning: Liblinear failed to converge, increase the number of iterations.\n",
      "  warnings.warn(\n",
      "d:\\Code\\Github\\AI_Learn\\.venv\\Lib\\site-packages\\sklearn\\svm\\_base.py:1235: ConvergenceWarning: Liblinear failed to converge, increase the number of iterations.\n",
      "  warnings.warn(\n",
      "d:\\Code\\Github\\AI_Learn\\.venv\\Lib\\site-packages\\sklearn\\svm\\_base.py:1235: ConvergenceWarning: Liblinear failed to converge, increase the number of iterations.\n",
      "  warnings.warn(\n",
      "d:\\Code\\Github\\AI_Learn\\.venv\\Lib\\site-packages\\sklearn\\svm\\_base.py:1235: ConvergenceWarning: Liblinear failed to converge, increase the number of iterations.\n",
      "  warnings.warn(\n"
     ]
    },
    {
     "data": {
      "image/png": "[encoded data removed]",
      "text/plain": [
       "<Figure size 640x480 with 1 Axes>"
      ]
     },
     "metadata": {},
     "output_type": "display_data"
    }
   ],
   "source": [
    "from sklearn.feature_selection import SelectFromModel\n",
    "from sklearn.svm import LinearSVC\n",
    "from sklearn.datasets import load_digits\n",
    "import numpy as np\n",
    "import matplotlib.pyplot as plt\n",
    "from sklearn.linear_model import Lasso\n",
    "\n",
    "# 加载数据\n",
    "digits = load_digits()\n",
    "X = digits.data\n",
    "y = digits.target\n",
    "\n",
    "def calculate_zeros(coef_matrix, threshold=1e-5):\n",
    "    \"\"\"计算系数矩阵中接近零的元素数量\"\"\"\n",
    "    return np.sum(np.abs(coef_matrix) < threshold)\n",
    "\n",
    "def plot_sparsity(param_values, zeros, param_name, title):\n",
    "    \"\"\"绘制稀疏性变化图\"\"\"\n",
    "    fig, ax = plt.subplots()\n",
    "    ax.plot(param_values, zeros)\n",
    "    ax.set_xlabel(param_name)\n",
    "    ax.set_xscale(\"log\")\n",
    "    ax.set_ylabel(\"zeros in coef\")\n",
    "    ax.set_title(title)\n",
    "    plt.show()\n",
    "\n",
    "def test_SelectFromModel():\n",
    "    estimator = LinearSVC(penalty=\"l1\", dual=False)\n",
    "    selector = SelectFromModel(estimator=estimator, threshold=\"mean\")\n",
    "    selector.fit(X, y)\n",
    "    X_transformed = selector.transform(X)\n",
    "    print(\"Threshold:\", selector.threshold_)\n",
    "    print(\"Selected features:\", selector.get_support(indices=True))\n",
    "    print(\"Transformed shape:\", X_transformed.shape)\n",
    "\n",
    "def test_Lasso():\n",
    "    alphas = np.logspace(-2, 2)\n",
    "    zeros = []\n",
    "    for alpha in alphas:\n",
    "        regr = Lasso(alpha=alpha)\n",
    "        regr.fit(X, y)\n",
    "        zeros.append(calculate_zeros(regr.coef_))  # 使用 calculate_zeros\n",
    "    plot_sparsity(alphas, zeros, r\"$\\alpha$\", \"Sparsity In Lasso\")\n",
    "\n",
    "def test_LinearSVC():\n",
    "    Cs = np.logspace(-2, 2)\n",
    "    zeros = []\n",
    "    for C in Cs:\n",
    "        clf = LinearSVC(C=C, penalty=\"l1\", dual=False, max_iter=10000)\n",
    "        clf.fit(X, y)\n",
    "        zeros.append(calculate_zeros(clf.coef_))  # 使用 calculate_zeros\n",
    "    plot_sparsity(Cs, zeros, \"C\", \"Sparsity In SVM\")\n",
    "\n",
    "# 调用测试函数\n",
    "test_SelectFromModel()  # 调用 test_SelectFromModel\n",
    "test_Lasso()  # 调用 test_Lasso\n",
    "test_LinearSVC()  # 调用 test_LinearSVC"
   ]
  }
 ],
 "metadata": {
  "kernelspec": {
   "display_name": ".venv",
   "language": "python",
   "name": "python3"
  },
  "language_info": {
   "codemirror_mode": {
    "name": "ipython",
    "version": 3
   },
   "file_extension": ".py",
   "mimetype": "text/x-python",
   "name": "python",
   "nbconvert_exporter": "python",
   "pygments_lexer": "ipython3",
   "version": "3.12.4"
  }
 },
 "nbformat": 4,
 "nbformat_minor": 2
}
