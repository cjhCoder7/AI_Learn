{
 "cells": [
  {
   "cell_type": "markdown",
   "metadata": {},
   "source": [
    "## 二元化"
   ]
  },
  {
   "cell_type": "markdown",
   "metadata": {},
   "source": [
    "`Binarizer` 是根据阈值进行数据的二元化处理，大于的为1，小于的为0"
   ]
  },
  {
   "cell_type": "code",
   "execution_count": 1,
   "metadata": {},
   "outputs": [
    {
     "name": "stdout",
     "output_type": "stream",
     "text": [
      "before transform: [[1, 2, 3, 4, 5], [5, 4, 3, 2, 1], [3, 3, 3, 3, 3], [1, 1, 1, 1, 1]]\n",
      "after transform: [[0 0 1 1 1]\n",
      " [1 1 1 0 0]\n",
      " [1 1 1 1 1]\n",
      " [0 0 0 0 0]]\n"
     ]
    }
   ],
   "source": [
    "from sklearn.preprocessing import Binarizer\n",
    "\n",
    "X = [[1, 2, 3, 4, 5],\n",
    "    [5, 4, 3, 2, 1],\n",
    "    [3, 3, 3, 3, 3],\n",
    "    [1, 1, 1, 1, 1]]\n",
    "\n",
    "print(\"before transform:\", X)\n",
    "\n",
    "binarizer = Binarizer(threshold=2.5)\n",
    "print(\"after transform:\", binarizer.transform(X))"
   ]
  },
  {
   "cell_type": "markdown",
   "metadata": {},
   "source": [
    "## 标准化"
   ]
  },
  {
   "cell_type": "markdown",
   "metadata": {},
   "source": [
    "`MinMaxScaler` 标准化数据，数据的每个特征被缩放到指定的范围（通常是[0, 1]或[0, 2]）。计算公式为：\n",
    "\n",
    "$$\n",
    "X' = \\frac{X - X_{min}}{X_{max} - X_{min}} \\times (feature\\_max - feature\\_min) + feature\\_min\n",
    "$$\n",
    "\n",
    "其中，$X$是原始值，$X_{min}$和$X_{max}$分别是特征的最小和最大值，$feature\\_min$和$feature\\_max$是目标范围的最小和最大值。通过这个公式，数据会被缩放到所需的范围内，保持特征之间的比例。"
   ]
  },
  {
   "cell_type": "code",
   "execution_count": 2,
   "metadata": {},
   "outputs": [
    {
     "name": "stdout",
     "output_type": "stream",
     "text": [
      "before transform: [[1, 5, 1, 2, 10], [2, 6, 3, 2, 7], [3, 7, 5, 6, 4], [4, 8, 7, 8, 1]]\n",
      "min_ is : [-0.66666667 -3.33333333 -0.33333333 -0.66666667 -0.22222222]\n",
      "scale_ is : [0.66666667 0.66666667 0.33333333 0.33333333 0.22222222]\n",
      "data_max_ is : [ 4.  8.  7.  8. 10.]\n",
      "data_min_ is : [1. 5. 1. 2. 1.]\n",
      "data_range_ is : [3. 3. 6. 6. 9.]\n",
      "after transform: [[0.         0.         0.         0.         2.        ]\n",
      " [0.66666667 0.66666667 0.66666667 0.         1.33333333]\n",
      " [1.33333333 1.33333333 1.33333333 1.33333333 0.66666667]\n",
      " [2.         2.         2.         2.         0.        ]]\n"
     ]
    }
   ],
   "source": [
    "from sklearn.preprocessing import MinMaxScaler, MaxAbsScaler, StandardScaler\n",
    "\n",
    "\n",
    "# min-max标准化\n",
    "def test_MinMaxScaler():\n",
    "    X = [[1, 5, 1, 2, 10],\n",
    "        [2, 6, 3, 2, 7],\n",
    "        [3, 7, 5, 6, 4],\n",
    "        [4, 8, 7, 8, 1]]\n",
    "    print(\"before transform:\", X)\n",
    "    scaler = MinMaxScaler(feature_range=(0, 2))\n",
    "    scaler.fit(X)\n",
    "    print(\"min_ is :\", scaler.min_)\n",
    "    print(\"scale_ is :\", scaler.scale_)\n",
    "    print(\"data_max_ is :\", scaler.data_max_)\n",
    "    print(\"data_min_ is :\", scaler.data_min_)\n",
    "    print(\"data_range_ is :\", scaler.data_range_)\n",
    "    print(\"after transform:\", scaler.transform(X))\n",
    "\n",
    "\n",
    "test_MinMaxScaler()"
   ]
  },
  {
   "cell_type": "markdown",
   "metadata": {},
   "source": [
    "`MaxAbsScaler` 标准化将每个特征按其最大绝对值进行缩放，将其映射到 [-1, 1] 范围内，缩放公式如下：\n",
    "\n",
    "$$\n",
    "X' = \\frac{X}{X_{\\text{max\\_abs}}}\n",
    "$$\n",
    "\n",
    "其中，$X_{\\text{max\\_abs}}$ 是每个特征的最大绝对值。这样做的好处是不改变数据的正负号，同时使数据的绝对值保持在 [0, 1] 之间或 [-1, 1]。"
   ]
  },
  {
   "cell_type": "code",
   "execution_count": 3,
   "metadata": {},
   "outputs": [
    {
     "name": "stdout",
     "output_type": "stream",
     "text": [
      "before transform: [[1, 5, 1, 2, 10], [2, 6, 3, 2, 7], [3, 7, 5, 6, 4], [4, 8, 7, 8, 1]]\n",
      "scale_ is : [ 4.  8.  7.  8. 10.]\n",
      "max_abs_ is : [ 4.  8.  7.  8. 10.]\n",
      "after transform: [[0.25       0.625      0.14285714 0.25       1.        ]\n",
      " [0.5        0.75       0.42857143 0.25       0.7       ]\n",
      " [0.75       0.875      0.71428571 0.75       0.4       ]\n",
      " [1.         1.         1.         1.         0.1       ]]\n"
     ]
    }
   ],
   "source": [
    "def test_MaxAbsScaler():\n",
    "    X = [[1, 5, 1, 2, 10],\n",
    "        [2, 6, 3, 2, 7],\n",
    "        [3, 7, 5, 6, 4],\n",
    "        [4, 8, 7, 8, 1]]\n",
    "    print(\"before transform:\", X)\n",
    "    scaler = MaxAbsScaler()\n",
    "    scaler.fit(X)\n",
    "    print(\"scale_ is :\", scaler.scale_)\n",
    "    print(\"max_abs_ is :\", scaler.max_abs_)\n",
    "    print(\"after transform:\", scaler.transform(X))\n",
    "\n",
    "\n",
    "test_MaxAbsScaler()"
   ]
  },
  {
   "cell_type": "markdown",
   "metadata": {},
   "source": [
    "`StandardScaler` 标准化后的数据符合标准正态分布，均值为0，标准差为1\n",
    "\n",
    "也称为 Z-score 标准化，标准差标准化或零均值标准化\n",
    "\n",
    "$$\n",
    "z_i = \\frac{x_i - \\mu}{\\sigma}\n",
    "$$\n",
    "\n",
    "其中：\n",
    "- $x_i$ 是原始数据点\n",
    "- $\\mu$ 是该特征的**均值**\n",
    "- $\\sigma$ 是该特征的**标准差**"
   ]
  },
  {
   "cell_type": "code",
   "execution_count": 4,
   "metadata": {},
   "outputs": [
    {
     "name": "stdout",
     "output_type": "stream",
     "text": [
      "before transform: [[1, 5, 1, 2, 10], [2, 6, 3, 2, 7], [3, 7, 5, 6, 4], [4, 8, 7, 8, 1]]\n",
      "scale_ is : [1.11803399 1.11803399 2.23606798 2.59807621 3.35410197]\n",
      "mean_ is : [2.5 6.5 4.  4.5 5.5]\n",
      "var_ is : [ 1.25  1.25  5.    6.75 11.25]\n",
      "after transform: [[-1.34164079 -1.34164079 -1.34164079 -0.96225045  1.34164079]\n",
      " [-0.4472136  -0.4472136  -0.4472136  -0.96225045  0.4472136 ]\n",
      " [ 0.4472136   0.4472136   0.4472136   0.57735027 -0.4472136 ]\n",
      " [ 1.34164079  1.34164079  1.34164079  1.34715063 -1.34164079]]\n"
     ]
    }
   ],
   "source": [
    "# StandardScaler\n",
    "def test_StandardScaler():\n",
    "    X = [[1, 5, 1, 2, 10],\n",
    "        [2, 6, 3, 2, 7],\n",
    "        [3, 7, 5, 6, 4],\n",
    "        [4, 8, 7, 8, 1]]\n",
    "    print(\"before transform:\", X)\n",
    "    scaler = StandardScaler()\n",
    "    scaler.fit(X)\n",
    "    print(\"scale_ is :\", scaler.scale_)\n",
    "    print(\"mean_ is :\", scaler.mean_)\n",
    "    print(\"var_ is :\", scaler.var_)\n",
    "    print(\"after transform:\", scaler.transform(X))\n",
    "\n",
    "\n",
    "test_StandardScaler()"
   ]
  },
  {
   "cell_type": "markdown",
   "metadata": {},
   "source": [
    "## 正则化"
   ]
  },
  {
   "cell_type": "markdown",
   "metadata": {},
   "source": [
    "L1范数是指向量中各个元素绝对值之和\n",
    "\n",
    "L2范数是指向量各元素的平方和然后求平方根"
   ]
  },
  {
   "cell_type": "code",
   "execution_count": 5,
   "metadata": {},
   "outputs": [
    {
     "name": "stdout",
     "output_type": "stream",
     "text": [
      "before transform: [[1, 2, 3, 4, 5], [5, 4, 3, 2, 1], [1, 3, 5, 2, 4], [2, 4, 1, 3, 5]]\n",
      "after transform: [[0.13483997 0.26967994 0.40451992 0.53935989 0.67419986]\n",
      " [0.67419986 0.53935989 0.40451992 0.26967994 0.13483997]\n",
      " [0.13483997 0.40451992 0.67419986 0.26967994 0.53935989]\n",
      " [0.26967994 0.53935989 0.13483997 0.40451992 0.67419986]]\n"
     ]
    }
   ],
   "source": [
    "from sklearn.preprocessing import Normalizer\n",
    "\n",
    "\n",
    "def test_Normalizer():\n",
    "    X = [[1, 2, 3, 4, 5], \n",
    "         [5, 4, 3, 2, 1], \n",
    "         [1, 3, 5, 2, 4], \n",
    "         [2, 4, 1, 3, 5]]\n",
    "    print(\"before transform:\", X)\n",
    "    # 11：采用L1范数进行正则化；12：采用L2范数进行正则化\n",
    "    normalizer = Normalizer(norm=\"l2\")\n",
    "    print(\"after transform:\", normalizer.transform(X))\n",
    "\n",
    "\n",
    "test_Normalizer()"
   ]
  }
 ],
 "metadata": {
  "kernelspec": {
   "display_name": ".venv",
   "language": "python",
   "name": "python3"
  },
  "language_info": {
   "codemirror_mode": {
    "name": "ipython",
    "version": 3
   },
   "file_extension": ".py",
   "mimetype": "text/x-python",
   "name": "python",
   "nbconvert_exporter": "python",
   "pygments_lexer": "ipython3",
   "version": "3.12.4"
  }
 },
 "nbformat": 4,
 "nbformat_minor": 2
}
