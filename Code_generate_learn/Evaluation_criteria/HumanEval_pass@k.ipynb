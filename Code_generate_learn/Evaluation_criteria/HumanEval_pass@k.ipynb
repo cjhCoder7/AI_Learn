{
 "cells": [
  {
   "cell_type": "markdown",
   "metadata": {},
   "source": [
    "![](images/2.png)"
   ]
  },
  {
   "cell_type": "markdown",
   "metadata": {},
   "source": [
    "![](images/3.png)"
   ]
  },
  {
   "cell_type": "markdown",
   "metadata": {},
   "source": [
    "![](images/1.png)"
   ]
  },
  {
   "cell_type": "markdown",
   "metadata": {},
   "source": [
    "假设模型只能生成这 n 个代码，而且他们每一种被生成出来的概率是相等的，其中有 c 个可以通过测试。\n",
    "\n",
    "那么模型任意生成 k 个代码，全都不能通过测试的概率是：生成 k 个不能通过测试的代码的情况总和与生成 k 个代码的全部情况总和之比\n",
    "\n",
    "然后 1 减去这个值就是pass@k"
   ]
  },
  {
   "cell_type": "code",
   "execution_count": null,
   "metadata": {},
   "outputs": [],
   "source": [
    "import itertools\n",
    "from typing import List, Union\n",
    "import numpy as np\n",
    "\n",
    "\n",
    "# openai 源代码\n",
    "def estimate_pass_at_k(\n",
    "    num_samples: Union[int, List[int], np.ndarray],\n",
    "    num_correct: Union[List[int], np.ndarray],\n",
    "    k: int,\n",
    ") -> np.ndarray:\n",
    "    \"\"\"\n",
    "    Estimates pass@k of each problem and returns them in an array.\n",
    "    \"\"\"\n",
    "\n",
    "    def estimator(n: int, c: int, k: int) -> float:\n",
    "        \"\"\"\n",
    "        Calculates 1 - comb(n - c, k) / comb(n, k).\n",
    "        \"\"\"\n",
    "        if n - c < k:\n",
    "            return 1.0\n",
    "        return 1.0 - np.prod(1.0 - k / np.arange(n - c + 1, n + 1))\n",
    "\n",
    "    if isinstance(num_samples, int):\n",
    "        # 使用 itertools.repeat 函数创建一个迭代器，将 num_samples 重复 len(num_correct) 次，确保列表长度是一致\n",
    "        num_samples_it = itertools.repeat(num_samples, len(num_correct))\n",
    "    else:\n",
    "        assert len(num_samples) == len(num_correct)\n",
    "        num_samples_it = iter(num_samples)\n",
    "\n",
    "    return np.array(\n",
    "        [estimator(int(n), int(c), k) for n, c in zip(num_samples_it, num_correct)]\n",
    "    )"
   ]
  },
  {
   "cell_type": "markdown",
   "metadata": {},
   "source": [
    "迭代器的主要用途是内存和效率的优化，它可以一次生成一个元素，而不是一次性生成所有元素。"
   ]
  }
 ],
 "metadata": {
  "language_info": {
   "name": "python"
  }
 },
 "nbformat": 4,
 "nbformat_minor": 2
}
