{
 "cells": [
  {
   "cell_type": "markdown",
   "metadata": {},
   "source": [
    "## 代码复杂度的衡量"
   ]
  },
  {
   "cell_type": "code",
   "execution_count": 1,
   "metadata": {},
   "outputs": [],
   "source": [
    "from radon.complexity import cc_visit\n",
    "from radon.metrics import h_visit\n",
    "from radon.metrics import mi_visit\n",
    "from cognitive_complexity.api import get_cognitive_complexity"
   ]
  },
  {
   "cell_type": "markdown",
   "metadata": {},
   "source": [
    "### 行复杂度"
   ]
  },
  {
   "cell_type": "code",
   "execution_count": 17,
   "metadata": {},
   "outputs": [],
   "source": [
    "def count_physical_loc(code_string):\n",
    "    # 将输入的代码字符串按换行符分割成多行\n",
    "    lines = code_string.split(\"\\n\")\n",
    "    # 过滤掉空行（即只包含空白字符的行），只保留非空行\n",
    "    non_empty_lines = [line for line in lines if line.strip() != \"\"]\n",
    "    # 返回非空行的数量，即物理行数\n",
    "    return len(non_empty_lines)"
   ]
  },
  {
   "cell_type": "markdown",
   "metadata": {},
   "source": [
    "### 平均圈复杂度"
   ]
  },
  {
   "cell_type": "markdown",
   "metadata": {},
   "source": [
    "圈复杂度是衡量代码逻辑复杂度的一个指标，通常用来衡量代码的可维护性和潜在的错误风险。\n",
    "\n",
    "总圈复杂度（Total Cyclomatic Complexity）是通过累加代码中所有函数、方法、类或模块的圈复杂度值来计算的。每个代码块（如函数或方法）的圈复杂度表示其控制流图中独立路径的数量，这些路径包括条件判断、循环、异常处理等结构。"
   ]
  },
  {
   "cell_type": "markdown",
   "metadata": {},
   "source": [
    "圈复杂度的计算通常基于控制流图（CFG），每当有分支或循环时，复杂度就会增加。圈复杂度的公式为：\n",
    "\n",
    "$$\n",
    "M = E - N + 2P\n",
    "$$\n",
    "\n",
    "其中：\n",
    "- \\( M \\): 圈复杂度\n",
    "- \\( E \\): 控制流图中的边数（Edges）\n",
    "- \\( N \\): 控制流图中的节点数（Nodes）\n",
    "- \\( P \\): 控制流图的连通部分数量（通常为 1）\n",
    "\n",
    "对于大多数代码块，圈复杂度的增加规则如下：\n",
    "- 每个函数默认的圈复杂度是 **1**。\n",
    "- 每遇到一个 **if**、**else if**、**for**、**while**、**case**、**catch** 或 **&&**、**||** 操作符时，圈复杂度加 **1**。"
   ]
  },
  {
   "cell_type": "code",
   "execution_count": 18,
   "metadata": {},
   "outputs": [],
   "source": [
    "def calculate_cyclomatic_complexity(code):\n",
    "    # 分析输入代码，得到代码块列表\n",
    "    blocks = cc_visit(code)\n",
    "    # 循环打印每个代码块的名称和复杂度\n",
    "    for block in blocks:\n",
    "        print(f\"{block.name}: {block.complexity}\")\n",
    "    # 计算所有代码块的总圈复杂度\n",
    "    total_complexity = sum(block.complexity for block in blocks)\n",
    "    # 如果有代码块，计算平均圈复杂度，否则返回0\n",
    "    average_complexity = total_complexity / len(blocks) if blocks else 0\n",
    "    # 打印平均圈复杂度\n",
    "    print(f\"Average Cyclomatic Complexity: {average_complexity}\")\n",
    "    # 返回平均圈复杂度\n",
    "    return average_complexity"
   ]
  },
  {
   "cell_type": "code",
   "execution_count": 19,
   "metadata": {},
   "outputs": [
    {
     "name": "stdout",
     "output_type": "stream",
     "text": [
      "example_function: 5\n",
      "calculate_cyclomatic_complexity: 4\n",
      "Average Cyclomatic Complexity: 4.5\n"
     ]
    }
   ],
   "source": [
    "example_code = \"\"\"\n",
    "def example_function(x):\n",
    "    if x > 0:\n",
    "        print(\"Positive\")\n",
    "    elif x < 0:\n",
    "        print(\"Negative\")\n",
    "    else:\n",
    "        print(\"Zero\")\n",
    "\n",
    "    for i in range(10):\n",
    "        if i % 2 == 0:\n",
    "            print(f\"{i} is even\")\n",
    "        else:\n",
    "            print(f\"{i} is odd\")\n",
    "\n",
    "def calculate_cyclomatic_complexity(code):\n",
    "    blocks = cc_visit(code)\n",
    "    for block in blocks:\n",
    "        print(f\"{block.name}: {block.complexity}\")\n",
    "    total_complexity = sum(block.complexity for block in blocks)\n",
    "    average_complexity = total_complexity / len(blocks) if blocks else 0\n",
    "    print(f\"Average Cyclomatic Complexity: {average_complexity}\")\n",
    "    return average_complexity            \n",
    "\"\"\"\n",
    "average_complexity = calculate_cyclomatic_complexity(example_code)"
   ]
  },
  {
   "cell_type": "markdown",
   "metadata": {},
   "source": [
    "### Halstead 复杂度"
   ]
  },
  {
   "cell_type": "markdown",
   "metadata": {},
   "source": [
    "Halstead 复杂度是软件度量中的一种，它通过分析代码中的操作符和操作数来度量代码的复杂性。Halstead 复杂度的几个主要度量指标包括：\n",
    "- `n1`: 操作符的总数量\n",
    "- `n2`: 操作数的总数量\n",
    "- `N1`: 操作符的不同种类（独立的操作符）\n",
    "- `N2`: 操作数的不同种类（独立的操作数）\n",
    "- 词汇表大小（vocabulary）: 代码中唯一的操作符和操作数的总数，即 `N = n1 + n2`。\n",
    "- 程序长度（length）: 操作符和操作数的总数量，即 `N1 + N2`。\n",
    "- 其他度量值还包括体积（volume）、难度（difficulty）和努力（effort）。"
   ]
  },
  {
   "cell_type": "code",
   "execution_count": 20,
   "metadata": {},
   "outputs": [],
   "source": [
    "def calculate_halstead_complexity(code):\n",
    "    # 使用 h_visit 函数分析代码，得到 Halstead 复杂度的结果\n",
    "    results = h_visit(code)\n",
    "    \n",
    "    # 返回 Halstead 复杂度中的词汇表大小\n",
    "    return results[0].vocabulary"
   ]
  },
  {
   "cell_type": "code",
   "execution_count": 21,
   "metadata": {},
   "outputs": [
    {
     "data": {
      "text/plain": [
       "3"
      ]
     },
     "execution_count": 21,
     "metadata": {},
     "output_type": "execute_result"
    }
   ],
   "source": [
    "example_code = \"\"\"\n",
    "def example(x, y):\n",
    "    return x + y          \n",
    "\"\"\"\n",
    "\n",
    "calculate_halstead_complexity(example_code)"
   ]
  },
  {
   "cell_type": "markdown",
   "metadata": {},
   "source": [
    "### 可维护性指数（Maintainability Index, MI）"
   ]
  },
  {
   "cell_type": "markdown",
   "metadata": {},
   "source": [
    "可维护性指数是用于衡量代码质量和可维护性的一种标准度量。它综合考虑了代码的复杂性、代码行数、注释密度等多个因素，给出一个分数。分数越高，表示代码越容易维护。"
   ]
  },
  {
   "cell_type": "code",
   "execution_count": 22,
   "metadata": {},
   "outputs": [],
   "source": [
    "def calculate_mi(code_string):\n",
    "    # 使用 mi_visit 函数分析代码并计算可维护性指数\n",
    "    mi_score = mi_visit(code_string, True)\n",
    "    \n",
    "    # 通过 100 减去 mi_score 的方式得到最终的可维护性指数\n",
    "    return 100 - mi_score"
   ]
  },
  {
   "cell_type": "code",
   "execution_count": 23,
   "metadata": {},
   "outputs": [
    {
     "data": {
      "text/plain": [
       "20.2576572942328"
      ]
     },
     "execution_count": 23,
     "metadata": {},
     "output_type": "execute_result"
    }
   ],
   "source": [
    "code_string = \"\"\"\n",
    "def example_function(x):\n",
    "    if x > 0:\n",
    "        print(\"Positive\")\n",
    "    else:\n",
    "        print(\"Non-positive\")\n",
    "\"\"\"\n",
    "calculate_mi(code_string)"
   ]
  },
  {
   "cell_type": "markdown",
   "metadata": {},
   "source": [
    "### 认知复杂度（Cognitive Complexity）"
   ]
  },
  {
   "cell_type": "markdown",
   "metadata": {},
   "source": [
    "通过解析代码并过滤掉一些不影响复杂度的语法节点，然后调用 `get_cognitive_complexity` 函数来计算认知复杂度。认知复杂度是一种用于衡量代码理解难度的度量，考虑了嵌套深度和代码中的控制流"
   ]
  },
  {
   "cell_type": "code",
   "execution_count": 24,
   "metadata": {},
   "outputs": [],
   "source": [
    "import ast\n",
    "\n",
    "def calculate_cognitive_complexity(code):\n",
    "    # 解析代码字符串为 AST（抽象语法树）\n",
    "    parsed_code = ast.parse(code)\n",
    "    try:\n",
    "        # 过滤掉特定类型的语法节点，不计入复杂度\n",
    "        new_body = [\n",
    "            node\n",
    "            for node in parsed_code.body\n",
    "            if not isinstance(\n",
    "                node,\n",
    "                (\n",
    "                    ast.Import,  # 导入语句\n",
    "                    ast.ImportFrom,  # 从模块导入语句\n",
    "                    ast.Assign,  # 赋值语句\n",
    "                    ast.Expr,  # 表达式语句\n",
    "                    ast.For,  # for 循环语句\n",
    "                    ast.AugAssign,  # 增量赋值语句 (+=, -= 等)\n",
    "                ),\n",
    "            )\n",
    "        ]\n",
    "        # 如果没有剩余的代码块，返回一个空函数定义\n",
    "        if not new_body:\n",
    "            funcdef = ast.parse(\"\")\n",
    "        # 否则，使用第一个剩下的代码块\n",
    "        else:\n",
    "            funcdef = new_body[0]\n",
    "\n",
    "    except Exception as e:\n",
    "        # 如果发生异常，打印错误信息，并回退使用原始代码\n",
    "        print(e)\n",
    "        print(\"Using original code.\")\n",
    "        # 如果解析后的代码为空，抛出错误\n",
    "        if not parsed_code.body:\n",
    "            raise ValueError(\"The code provided is empty or invalid.\")\n",
    "        # 否则，使用解析代码的第一个部分\n",
    "        funcdef = parsed_code.body[0]\n",
    "\n",
    "    # 计算过滤后的代码块的认知复杂度\n",
    "    cc_score = get_cognitive_complexity(funcdef)\n",
    "    # 返回计算出的认知复杂度分数\n",
    "    return cc_score"
   ]
  },
  {
   "cell_type": "code",
   "execution_count": 25,
   "metadata": {},
   "outputs": [
    {
     "data": {
      "text/plain": [
       "8"
      ]
     },
     "execution_count": 25,
     "metadata": {},
     "output_type": "execute_result"
    }
   ],
   "source": [
    "code_string = \"\"\"\n",
    "def process_numbers(numbers):\n",
    "    total = 0\n",
    "    for num in numbers:\n",
    "        if num > 0:\n",
    "            if num % 2 == 0:\n",
    "                total += num\n",
    "            else:\n",
    "                total += num * 2\n",
    "        else:\n",
    "            if num == 0:\n",
    "                total += 1\n",
    "            else:\n",
    "                total -= num\n",
    "    return total\n",
    "\"\"\"\n",
    "calculate_cognitive_complexity(code_string)"
   ]
  }
 ],
 "metadata": {
  "kernelspec": {
   "display_name": ".venv",
   "language": "python",
   "name": "python3"
  },
  "language_info": {
   "codemirror_mode": {
    "name": "ipython",
    "version": 3
   },
   "file_extension": ".py",
   "mimetype": "text/x-python",
   "name": "python",
   "nbconvert_exporter": "python",
   "pygments_lexer": "ipython3",
   "version": "3.12.4"
  }
 },
 "nbformat": 4,
 "nbformat_minor": 2
}
